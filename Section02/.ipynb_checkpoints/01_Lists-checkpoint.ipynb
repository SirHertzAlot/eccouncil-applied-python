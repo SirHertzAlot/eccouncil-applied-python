{
 "cells": [
  {
   "cell_type": "markdown",
   "id": "0851b621",
   "metadata": {},
   "source": [
    "# Lists in Python"
   ]
  },
  {
   "cell_type": "code",
   "execution_count": 1,
   "id": "c4c41dc4",
   "metadata": {},
   "outputs": [],
   "source": [
    "#How to define a list.\n",
    "list1 = [1, 2, 3, 4]"
   ]
  },
  {
   "cell_type": "code",
   "execution_count": 2,
   "id": "790e178f",
   "metadata": {},
   "outputs": [
    {
     "name": "stdout",
     "output_type": "stream",
     "text": [
      "[1, 2, 3, 4]\n"
     ]
    }
   ],
   "source": [
    "#Output the lists contents to the console.\n",
    "print(list1)"
   ]
  },
  {
   "cell_type": "code",
   "execution_count": 3,
   "id": "f973f1ac",
   "metadata": {},
   "outputs": [
    {
     "data": {
      "text/plain": [
       "[1, 2, 3, 4]"
      ]
     },
     "execution_count": 3,
     "metadata": {},
     "output_type": "execute_result"
    }
   ],
   "source": [
    "#Call the list.\n",
    "list1"
   ]
  },
  {
   "cell_type": "code",
   "execution_count": 4,
   "id": "ad4ad00c",
   "metadata": {},
   "outputs": [
    {
     "data": {
      "text/plain": [
       "1"
      ]
     },
     "execution_count": 4,
     "metadata": {},
     "output_type": "execute_result"
    }
   ],
   "source": [
    "#Call the first index in the list (Lists are zero-indexed.).\n",
    "list1[0]"
   ]
  },
  {
   "cell_type": "code",
   "execution_count": 5,
   "id": "07408e01",
   "metadata": {},
   "outputs": [
    {
     "data": {
      "text/plain": [
       "2"
      ]
     },
     "execution_count": 5,
     "metadata": {},
     "output_type": "execute_result"
    }
   ],
   "source": [
    "#Call the nth-1 index in the list (Lists are zero-indexed.).\n",
    "list1[1]"
   ]
  },
  {
   "cell_type": "code",
   "execution_count": 6,
   "id": "30afaa64",
   "metadata": {},
   "outputs": [
    {
     "data": {
      "text/plain": [
       "3"
      ]
     },
     "execution_count": 6,
     "metadata": {},
     "output_type": "execute_result"
    }
   ],
   "source": [
    "#Call the nth-1 index in the list (Lists are zero-indexed.).\n",
    "list1[2]"
   ]
  },
  {
   "cell_type": "code",
   "execution_count": 7,
   "id": "2800ac70",
   "metadata": {},
   "outputs": [
    {
     "data": {
      "text/plain": [
       "4"
      ]
     },
     "execution_count": 7,
     "metadata": {},
     "output_type": "execute_result"
    }
   ],
   "source": [
    "#Call the nth-1 index in the list (Lists are zero-indexed.).\n",
    "list1[3]"
   ]
  },
  {
   "cell_type": "code",
   "execution_count": 8,
   "id": "931bdc01",
   "metadata": {},
   "outputs": [
    {
     "data": {
      "text/plain": [
       "4"
      ]
     },
     "execution_count": 8,
     "metadata": {},
     "output_type": "execute_result"
    }
   ],
   "source": [
    "#Reverse index to second-to-last index in list.\n",
    "list1[-1]"
   ]
  },
  {
   "cell_type": "code",
   "execution_count": 9,
   "id": "57503c39",
   "metadata": {},
   "outputs": [
    {
     "data": {
      "text/plain": [
       "3"
      ]
     },
     "execution_count": 9,
     "metadata": {},
     "output_type": "execute_result"
    }
   ],
   "source": [
    "#Reverse index to third-to-last index in list.\n",
    "list1[-2]"
   ]
  },
  {
   "cell_type": "code",
   "execution_count": 10,
   "id": "052390d9",
   "metadata": {},
   "outputs": [
    {
     "data": {
      "text/plain": [
       "2"
      ]
     },
     "execution_count": 10,
     "metadata": {},
     "output_type": "execute_result"
    }
   ],
   "source": [
    "#Reverse index to fourth-to-last index in list.\n",
    "list1[-3]"
   ]
  },
  {
   "cell_type": "code",
   "execution_count": 11,
   "id": "44af8c8b",
   "metadata": {},
   "outputs": [
    {
     "data": {
      "text/plain": [
       "list[slice(1, 3, None)]"
      ]
     },
     "execution_count": 11,
     "metadata": {},
     "output_type": "execute_result"
    }
   ],
   "source": [
    "#Slice list to object only the second and fourth indices.\n",
    "list[1:3]"
   ]
  },
  {
   "cell_type": "code",
   "execution_count": 12,
   "id": "10e1f535",
   "metadata": {},
   "outputs": [
    {
     "data": {
      "text/plain": [
       "[2, 3, 4]"
      ]
     },
     "execution_count": 12,
     "metadata": {},
     "output_type": "execute_result"
    }
   ],
   "source": [
    "#Retrieve everything but the index before the : .\n",
    "list1[1:]"
   ]
  },
  {
   "cell_type": "code",
   "execution_count": 13,
   "id": "67764240",
   "metadata": {},
   "outputs": [],
   "source": [
    "#Define a new list.\n",
    "list2 = [1, 2, 1, 2, 3]"
   ]
  },
  {
   "cell_type": "code",
   "execution_count": 14,
   "id": "e363b598",
   "metadata": {},
   "outputs": [
    {
     "name": "stdout",
     "output_type": "stream",
     "text": [
      "[1, 2, 1, 2, 3]\n"
     ]
    }
   ],
   "source": [
    "#Print the new list out.\n",
    "print(list2)"
   ]
  },
  {
   "cell_type": "code",
   "execution_count": 15,
   "id": "ce37ebe8",
   "metadata": {},
   "outputs": [
    {
     "data": {
      "text/plain": [
       "4"
      ]
     },
     "execution_count": 15,
     "metadata": {},
     "output_type": "execute_result"
    }
   ],
   "source": [
    "#Get the length of the first list.\n",
    "len(list1)"
   ]
  },
  {
   "cell_type": "code",
   "execution_count": 16,
   "id": "b0cdb524",
   "metadata": {},
   "outputs": [
    {
     "data": {
      "text/plain": [
       "5"
      ]
     },
     "execution_count": 16,
     "metadata": {},
     "output_type": "execute_result"
    }
   ],
   "source": [
    "#Get the length of the new list.\n",
    "len(list2)"
   ]
  },
  {
   "cell_type": "code",
   "execution_count": 17,
   "id": "6b2a0593",
   "metadata": {},
   "outputs": [
    {
     "name": "stdout",
     "output_type": "stream",
     "text": [
      "[1, 2, 3] ['ABC', 'BCD', 'CDE'] [True, False, True]\n"
     ]
    }
   ],
   "source": [
    "#Lists can hold many different data types.\n",
    "l1 = [1, 2, 3]\n",
    "l2 = ['ABC', 'BCD', 'CDE']\n",
    "l3 = [True, False, True]\n",
    "\n",
    "print(l1, l2, l3)"
   ]
  },
  {
   "cell_type": "code",
   "execution_count": 18,
   "id": "cd171a74",
   "metadata": {},
   "outputs": [
    {
     "name": "stdout",
     "output_type": "stream",
     "text": [
      "[1, 'ABC', True]\n"
     ]
    }
   ],
   "source": [
    "#Lists can also hold different data types in different indices all within the same list.\n",
    "l1 = [1, 'ABC', True]\n",
    "print(l1)"
   ]
  },
  {
   "cell_type": "code",
   "execution_count": 19,
   "id": "df78f666",
   "metadata": {},
   "outputs": [
    {
     "name": "stdout",
     "output_type": "stream",
     "text": [
      "<class 'list'>\n"
     ]
    }
   ],
   "source": [
    "#Lists all inherit from the list class.\n",
    "print(type(l1))"
   ]
  },
  {
   "cell_type": "code",
   "execution_count": 44,
   "id": "8433f7ca",
   "metadata": {},
   "outputs": [],
   "source": [
    "# Define another list.\n",
    "l1 = [1, 2, 3]"
   ]
  },
  {
   "cell_type": "code",
   "execution_count": 21,
   "id": "1af97812",
   "metadata": {},
   "outputs": [
    {
     "data": {
      "text/plain": [
       "[1, 2, 3]"
      ]
     },
     "execution_count": 21,
     "metadata": {},
     "output_type": "execute_result"
    }
   ],
   "source": [
    "#Call the list.\n",
    "l1"
   ]
  },
  {
   "cell_type": "code",
   "execution_count": 22,
   "id": "a291d038",
   "metadata": {},
   "outputs": [],
   "source": [
    "l1[2] = 4"
   ]
  },
  {
   "cell_type": "code",
   "execution_count": 23,
   "id": "6478b1bb",
   "metadata": {},
   "outputs": [
    {
     "data": {
      "text/plain": [
       "[1, 2, 4]"
      ]
     },
     "execution_count": 23,
     "metadata": {},
     "output_type": "execute_result"
    }
   ],
   "source": [
    "l1"
   ]
  },
  {
   "cell_type": "code",
   "execution_count": 24,
   "id": "487109ff",
   "metadata": {},
   "outputs": [],
   "source": [
    "#Delete an index from the list.\n",
    "del l1[0]"
   ]
  },
  {
   "cell_type": "code",
   "execution_count": 25,
   "id": "bb5af8f5",
   "metadata": {},
   "outputs": [
    {
     "data": {
      "text/plain": [
       "[2, 4]"
      ]
     },
     "execution_count": 25,
     "metadata": {},
     "output_type": "execute_result"
    }
   ],
   "source": [
    "l1"
   ]
  },
  {
   "cell_type": "code",
   "execution_count": 26,
   "id": "88b2e5f0",
   "metadata": {},
   "outputs": [
    {
     "ename": "IndexError",
     "evalue": "list index out of range",
     "output_type": "error",
     "traceback": [
      "\u001b[1;31m---------------------------------------------------------------------------\u001b[0m",
      "\u001b[1;31mIndexError\u001b[0m                                Traceback (most recent call last)",
      "Cell \u001b[1;32mIn[26], line 1\u001b[0m\n\u001b[1;32m----> 1\u001b[0m \u001b[43ml1\u001b[49m\u001b[43m[\u001b[49m\u001b[38;5;241;43m4\u001b[39;49m\u001b[43m]\u001b[49m\n",
      "\u001b[1;31mIndexError\u001b[0m: list index out of range"
     ]
    }
   ],
   "source": [
    "#Cannot access indices outside of the list.\n",
    "l1[4]"
   ]
  },
  {
   "cell_type": "code",
   "execution_count": 27,
   "id": "021255d9",
   "metadata": {},
   "outputs": [
    {
     "data": {
      "text/plain": [
       "[2, 4]"
      ]
     },
     "execution_count": 27,
     "metadata": {},
     "output_type": "execute_result"
    }
   ],
   "source": [
    "l1 "
   ]
  },
  {
   "cell_type": "code",
   "execution_count": 28,
   "id": "051d189d",
   "metadata": {},
   "outputs": [],
   "source": [
    "#Add a value to the list.\n",
    "l1.append(3)"
   ]
  },
  {
   "cell_type": "code",
   "execution_count": 29,
   "id": "7c278c0c",
   "metadata": {},
   "outputs": [
    {
     "data": {
      "text/plain": [
       "True"
      ]
     },
     "execution_count": 29,
     "metadata": {},
     "output_type": "execute_result"
    }
   ],
   "source": [
    "#Directly access value within list.\n",
    "2 in l1"
   ]
  },
  {
   "cell_type": "code",
   "execution_count": 30,
   "id": "6ccdf8ae",
   "metadata": {},
   "outputs": [
    {
     "data": {
      "text/plain": [
       "False"
      ]
     },
     "execution_count": 30,
     "metadata": {},
     "output_type": "execute_result"
    }
   ],
   "source": [
    "1 in l1"
   ]
  },
  {
   "cell_type": "code",
   "execution_count": 31,
   "id": "fab4e06a",
   "metadata": {},
   "outputs": [
    {
     "name": "stdout",
     "output_type": "stream",
     "text": [
      "2\n",
      "4\n",
      "3\n"
     ]
    }
   ],
   "source": [
    "#Loop through the list.\n",
    "for i in l1:\n",
    "    print(i)"
   ]
  },
  {
   "cell_type": "code",
   "execution_count": 32,
   "id": "d479d423",
   "metadata": {},
   "outputs": [
    {
     "data": {
      "text/plain": [
       "[2, 4, 3, 2, 4, 3, 2, 4, 3, 2, 4, 3]"
      ]
     },
     "execution_count": 32,
     "metadata": {},
     "output_type": "execute_result"
    }
   ],
   "source": [
    "#Duplicate a list 4x.\n",
    "l1 * 4"
   ]
  },
  {
   "cell_type": "code",
   "execution_count": 33,
   "id": "481e1dd9",
   "metadata": {},
   "outputs": [
    {
     "data": {
      "text/plain": [
       "([2, 4, 3], ['ABC', 'BCD', 'CDE'])"
      ]
     },
     "execution_count": 33,
     "metadata": {},
     "output_type": "execute_result"
    }
   ],
   "source": [
    "\n",
    "l1, l2"
   ]
  },
  {
   "cell_type": "code",
   "execution_count": 34,
   "id": "3ffd71d5",
   "metadata": {},
   "outputs": [
    {
     "data": {
      "text/plain": [
       "[2, 4, 3, 'ABC', 'BCD', 'CDE']"
      ]
     },
     "execution_count": 34,
     "metadata": {},
     "output_type": "execute_result"
    }
   ],
   "source": [
    "#Concatenate lists.\n",
    "l1 + l2"
   ]
  },
  {
   "cell_type": "code",
   "execution_count": 35,
   "id": "09023023",
   "metadata": {},
   "outputs": [],
   "source": [
    "#Append list at the end in exact order.\n",
    "l1.extend([1, 5])"
   ]
  },
  {
   "cell_type": "code",
   "execution_count": 36,
   "id": "980103a4",
   "metadata": {},
   "outputs": [
    {
     "data": {
      "text/plain": [
       "[2, 4, 3, 1, 5]"
      ]
     },
     "execution_count": 36,
     "metadata": {},
     "output_type": "execute_result"
    }
   ],
   "source": [
    "l1"
   ]
  },
  {
   "cell_type": "code",
   "execution_count": 37,
   "id": "c8d5aa61",
   "metadata": {},
   "outputs": [],
   "source": [
    "#Sort out of order list using sorting algorithm.\n",
    "l1.sort()"
   ]
  },
  {
   "cell_type": "code",
   "execution_count": 38,
   "id": "b26fef33",
   "metadata": {},
   "outputs": [
    {
     "data": {
      "text/plain": [
       "[1, 2, 3, 4, 5]"
      ]
     },
     "execution_count": 38,
     "metadata": {},
     "output_type": "execute_result"
    }
   ],
   "source": [
    "l1"
   ]
  },
  {
   "cell_type": "code",
   "execution_count": 39,
   "id": "3e48b626",
   "metadata": {},
   "outputs": [],
   "source": [
    "#Reverse list order using reverse algorithm.\n",
    "l1.reverse()"
   ]
  },
  {
   "cell_type": "code",
   "execution_count": 40,
   "id": "83c8b6f9",
   "metadata": {},
   "outputs": [
    {
     "data": {
      "text/plain": [
       "[5, 4, 3, 2, 1]"
      ]
     },
     "execution_count": 40,
     "metadata": {},
     "output_type": "execute_result"
    }
   ],
   "source": [
    "l1"
   ]
  },
  {
   "cell_type": "code",
   "execution_count": 41,
   "id": "eecbf62b",
   "metadata": {},
   "outputs": [],
   "source": [
    "#Delete list.\n",
    "del l1"
   ]
  },
  {
   "cell_type": "code",
   "execution_count": 45,
   "id": "f13ca77c",
   "metadata": {},
   "outputs": [
    {
     "data": {
      "text/plain": [
       "[1, 2, 3]"
      ]
     },
     "execution_count": 45,
     "metadata": {},
     "output_type": "execute_result"
    }
   ],
   "source": [
    "# Make sure list is deleted\n",
    "l1"
   ]
  },
  {
   "cell_type": "code",
   "execution_count": 43,
   "id": "6777137f",
   "metadata": {},
   "outputs": [
    {
     "name": "stdout",
     "output_type": "stream",
     "text": [
      "Lists assignment completed successfully!\n"
     ]
    }
   ],
   "source": [
    "print(\"Lists assignment completed successfully!\")"
   ]
  },
  {
   "cell_type": "code",
   "execution_count": null,
   "id": "092dbe41-a88f-4f5c-ba8f-81ca3aa98b5b",
   "metadata": {},
   "outputs": [],
   "source": []
  }
 ],
 "metadata": {
  "kernelspec": {
   "display_name": "Python 3 (ipykernel)",
   "language": "python",
   "name": "python3"
  },
  "language_info": {
   "codemirror_mode": {
    "name": "ipython",
    "version": 3
   },
   "file_extension": ".py",
   "mimetype": "text/x-python",
   "name": "python",
   "nbconvert_exporter": "python",
   "pygments_lexer": "ipython3",
   "version": "3.12.3"
  }
 },
 "nbformat": 4,
 "nbformat_minor": 5
}
